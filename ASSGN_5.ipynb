{
 "cells": [
  {
   "cell_type": "code",
   "execution_count": 1,
   "id": "f3b4e496",
   "metadata": {},
   "outputs": [
    {
     "name": "stdout",
     "output_type": "stream",
     "text": [
      "Enter the string: My name is Devansh\n",
      "hsnaveD si eman yM\n"
     ]
    }
   ],
   "source": [
    "# 1\n",
    "\n",
    "str = input(\"Enter the string: \")\n",
    "rev_str = \"\"\n",
    "len = len(str)\n",
    "while len > 0:\n",
    "    rev_str += str[len-1]\n",
    "    len -= 1\n",
    "print(rev_str)"
   ]
  },
  {
   "cell_type": "code",
   "execution_count": 2,
   "id": "93435a3c",
   "metadata": {},
   "outputs": [
    {
     "name": "stdout",
     "output_type": "stream",
     "text": [
      "Enter the lower range: 10\n",
      "Enter the upper range: 70\n",
      "Enter the number: 2\n",
      "10\n",
      "12\n",
      "14\n",
      "16\n",
      "18\n",
      "20\n",
      "22\n",
      "24\n",
      "26\n",
      "28\n",
      "30\n",
      "32\n",
      "34\n",
      "36\n",
      "38\n",
      "40\n",
      "42\n",
      "44\n",
      "46\n",
      "48\n",
      "50\n",
      "52\n",
      "54\n",
      "56\n",
      "58\n",
      "60\n",
      "62\n",
      "64\n",
      "66\n",
      "68\n",
      "70\n"
     ]
    }
   ],
   "source": [
    "# 2\n",
    "def div_num(lr, ur):\n",
    "    n = int(input(\"Enter the number: \"))\n",
    "    for _ in range(lr, ur + 1):\n",
    "        if _ % n == 0:\n",
    "            print(_)\n",
    "div_num(int(input(\"Enter the lower range: \")), int(input(\"Enter the upper range: \")))"
   ]
  },
  {
   "cell_type": "code",
   "execution_count": 3,
   "id": "be7850da",
   "metadata": {},
   "outputs": [
    {
     "name": "stdout",
     "output_type": "stream",
     "text": [
      "Enter side 1: 7\n",
      "Enter side 2: 8\n",
      "Enter side 3: 13\n",
      "The area of the triange is 24.24871130596428\n"
     ]
    }
   ],
   "source": [
    "# 3\n",
    "while True:\n",
    "    len1 = float(input(\"Enter side 1: \"))\n",
    "    len2 = float(input(\"Enter side 2: \"))\n",
    "    len3 = float(input(\"Enter side 3: \"))\n",
    "    if len1 + len2 > len3 and len2 + len3 > len1 and len1 + len3 > len2:\n",
    "        break\n",
    "    else:\n",
    "        print(\"Invalid side lengths\")\n",
    "        continue\n",
    "p = (len1 + len2 + len3)/2\n",
    "import math\n",
    "area = math.sqrt(p * (p-len1) * (p-len2) * (p-len3))\n",
    "print(\"The area of the triange is\", area)"
   ]
  },
  {
   "cell_type": "code",
   "execution_count": 4,
   "id": "81f6af0e",
   "metadata": {},
   "outputs": [
    {
     "name": "stdout",
     "output_type": "stream",
     "text": [
      "* \n",
      "* * \n",
      "* * * \n",
      "* * * * \n",
      "* * * * * \n",
      "* * * * \n",
      "* * * \n",
      "* * \n",
      "* \n",
      "\n"
     ]
    }
   ],
   "source": [
    "# 4\n",
    "for _ in range(1, 6):\n",
    "    print(_ * \"* \")\n",
    "for i in range(1, 6):\n",
    "    x = 5-i\n",
    "    print(x * \"* \")"
   ]
  },
  {
   "cell_type": "code",
   "execution_count": 5,
   "id": "2efe3e8a",
   "metadata": {},
   "outputs": [
    {
     "name": "stdout",
     "output_type": "stream",
     "text": [
      "Enter the number of rows: 5\n",
      "A\n",
      "BC\n",
      "DEF\n",
      "GHIJ\n",
      "KLMNO\n"
     ]
    }
   ],
   "source": [
    "# 5 \n",
    "x = \"ABCDEFGHIJKLMNOPQRSTUVWXYZ\"\n",
    "r = int(input(\"Enter the number of rows: \"))\n",
    "y, c = 0, 1\n",
    "for _ in range(1, 1+r):\n",
    "    print(x[y:c])\n",
    "    y = c\n",
    "    c += _ + 1\n"
   ]
  },
  {
   "cell_type": "code",
   "execution_count": 7,
   "id": "a3b0370d",
   "metadata": {},
   "outputs": [
    {
     "name": "stdout",
     "output_type": "stream",
     "text": [
      "Enter the upper range: 100\n",
      "The prime numbers in the given range are\n",
      "2, 3, 5, 7, 11, 13, 17, 19, 23, 29, 31, 37, 41, 43, 47, 53, 59, 61, 67, 71, 73, 79, 83, 89, 97, "
     ]
    }
   ],
   "source": [
    "# 6\n",
    "ur = int(input(\"Enter the upper range: \"))\n",
    "print(\"The prime numbers in the given range are\")\n",
    "for _ in range(2, ur + 1):\n",
    "    for j in range(2, _):\n",
    "        if _ == j:\n",
    "            pass\n",
    "        elif _ % j == 0:\n",
    "            break\n",
    "    else:\n",
    "        print(_, end=\", \")"
   ]
  },
  {
   "cell_type": "code",
   "execution_count": 8,
   "id": "0487af16",
   "metadata": {},
   "outputs": [
    {
     "name": "stdout",
     "output_type": "stream",
     "text": [
      "77\n",
      "154\n",
      "231\n",
      "308\n",
      "385\n",
      "462\n"
     ]
    }
   ],
   "source": [
    "# 7 \n",
    "for i in range(1, 500):\n",
    "    if i % 7 == 0 and i % 11 == 0:\n",
    "        print(i)"
   ]
  },
  {
   "cell_type": "code",
   "execution_count": 11,
   "id": "32bd1b02",
   "metadata": {},
   "outputs": [
    {
     "name": "stdout",
     "output_type": "stream",
     "text": [
      "Enter an integer: 6\n",
      "Enter an integer: 5\n",
      "Enter an integer: 5\n",
      "Enter an integer: -587\n",
      "Enter an integer: -48\n",
      "Enter an integer: 98\n",
      "Enter an integer: 200\n",
      "Enter an integer: 54\n",
      "Enter an integer: -1\n",
      "Enter an integer: 4\n",
      "Positive numbers: 6 5 5 98 200 54 4\n",
      "Negative numbers: -587 -48 -1\n",
      "Odd numbers: 5 5 -587 -1\n",
      "Even numbers: 6 -48 98 200 54 4\n",
      "Number count: {6: 1, 5: 2, -587: 1, -48: 1, 98: 1, 200: 1, 54: 1, -1: 1, 4: 1}\n"
     ]
    }
   ],
   "source": [
    "# 8\n",
    "positives = []\n",
    "negatives = []\n",
    "odds = []\n",
    "evens = []\n",
    "count = {}\n",
    "for i in range(10):\n",
    "  num = int(input(\"Enter an integer: \"))\n",
    "  if num > 0:\n",
    "    positives.append(num)\n",
    "  elif num < 0:\n",
    "    negatives.append(num)\n",
    "  if num % 2 == 0:\n",
    "    evens.append(num)\n",
    "  else:\n",
    "    odds.append(num)\n",
    "  if num in count:\n",
    "    count[num] += 1\n",
    "  else:\n",
    "    count[num] = 1\n",
    "print(\"Positive numbers:\", *positives)\n",
    "print(\"Negative numbers:\", *negatives)\n",
    "print(\"Odd numbers:\", *odds)\n",
    "print(\"Even numbers:\", *evens)\n",
    "print(\"Number count:\", count)"
   ]
  },
  {
   "cell_type": "code",
   "execution_count": 12,
   "id": "fc954743",
   "metadata": {},
   "outputs": [
    {
     "name": "stdout",
     "output_type": "stream",
     "text": [
      "Enter a list of words separated by space: My branch is electronics and communication\n",
      "Word count: {'My': 1, 'branch': 1, 'is': 1, 'electronics': 1, 'and': 1, 'communication': 1}\n"
     ]
    }
   ],
   "source": [
    "# 9\n",
    "words = input(\"Enter a list of words separated by space: \").split()\n",
    "count = {}\n",
    "for word in words:\n",
    "  if word in count:\n",
    "    count[word] += 1\n",
    "  else:\n",
    "    count[word] = 1\n",
    "print(\"Word count:\", count)"
   ]
  },
  {
   "cell_type": "code",
   "execution_count": null,
   "id": "ae1858af",
   "metadata": {},
   "outputs": [],
   "source": []
  }
 ],
 "metadata": {
  "kernelspec": {
   "display_name": "Python 3 (ipykernel)",
   "language": "python",
   "name": "python3"
  },
  "language_info": {
   "codemirror_mode": {
    "name": "ipython",
    "version": 3
   },
   "file_extension": ".py",
   "mimetype": "text/x-python",
   "name": "python",
   "nbconvert_exporter": "python",
   "pygments_lexer": "ipython3",
   "version": "3.9.13"
  }
 },
 "nbformat": 4,
 "nbformat_minor": 5
}
